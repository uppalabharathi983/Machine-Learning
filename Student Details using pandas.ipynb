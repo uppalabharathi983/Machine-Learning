{
 "cells": [
  {
   "cell_type": "code",
   "execution_count": 1,
   "id": "8a5edaf6",
   "metadata": {},
   "outputs": [],
   "source": [
    "import pandas as pd"
   ]
  },
  {
   "cell_type": "code",
   "execution_count": 2,
   "id": "ce05f923",
   "metadata": {},
   "outputs": [],
   "source": [
    "students={\n",
    "    'Name':['Hema','Kalpana','Bharathi','Niharika'],\n",
    "     'ID':[46,49,48,45],\n",
    "    'Class':['A','B','A','B'],\n",
    "    'Branch':['ECE','EEE','ECE','EEE'],\n",
    "    'Contact':['123-456-7890','234-567-8901','345-678-9012','456-789-0123'],\n",
    "    'Hostel Room':['A011','B202','A012','B203'],\n",
    "    'Remarks':['GOOD','AVERAGE','EXCELLENT','BETTER']\n",
    "}"
   ]
  },
  {
   "cell_type": "code",
   "execution_count": 3,
   "id": "e6fe83a6",
   "metadata": {},
   "outputs": [
    {
     "name": "stdout",
     "output_type": "stream",
     "text": [
      "  Branch Class       Contact Hostel Room  ID      Name    Remarks\n",
      "0    ECE     A  123-456-7890        A011  46      Hema       GOOD\n",
      "1    EEE     B  234-567-8901        B202  49   Kalpana    AVERAGE\n",
      "2    ECE     A  345-678-9012        A012  48  Bharathi  EXCELLENT\n",
      "3    EEE     B  456-789-0123        B203  45  Niharika     BETTER\n"
     ]
    }
   ],
   "source": [
    "df=pd.DataFrame(students)\n",
    "print(df)"
   ]
  },
  {
   "cell_type": "code",
   "execution_count": null,
   "id": "1e8027de",
   "metadata": {},
   "outputs": [],
   "source": []
  }
 ],
 "metadata": {
  "kernelspec": {
   "display_name": "Python 3",
   "language": "python",
   "name": "python3"
  },
  "language_info": {
   "codemirror_mode": {
    "name": "ipython",
    "version": 3
   },
   "file_extension": ".py",
   "mimetype": "text/x-python",
   "name": "python",
   "nbconvert_exporter": "python",
   "pygments_lexer": "ipython3",
   "version": "3.6.9"
  }
 },
 "nbformat": 4,
 "nbformat_minor": 5
}
