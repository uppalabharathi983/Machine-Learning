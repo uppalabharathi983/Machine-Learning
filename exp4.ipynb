{
 "cells": [
  {
   "cell_type": "code",
   "execution_count": 1,
   "id": "9f838f7b",
   "metadata": {},
   "outputs": [],
   "source": [
    "import numpy as np\n"
   ]
  },
  {
   "cell_type": "code",
   "execution_count": 2,
   "id": "efc8c2ed",
   "metadata": {},
   "outputs": [
    {
     "name": "stdout",
     "output_type": "stream",
     "text": [
      "Enter any operation:\n",
      "1.add\n",
      "2.subtract\n",
      "3.multiply\n",
      "4.divide\n",
      "5.square root\n",
      "6.exponentiation\n",
      "7.logarithm\n",
      "8.trigonometric functions\n",
      "9.exit\n"
     ]
    }
   ],
   "source": [
    "print(\"Enter any operation:\")\n",
    "print(\"1.add\")\n",
    "print(\"2.subtract\")\n",
    "print(\"3.multiply\")\n",
    "print(\"4.divide\")\n",
    "print(\"5.square root\")\n",
    "print(\"6.exponentiation\")\n",
    "print(\"7.logarithm\")\n",
    "print(\"8.trigonometric functions\")\n",
    "print(\"9.exit\")"
   ]
  },
  {
   "cell_type": "code",
   "execution_count": null,
   "id": "698563f2",
   "metadata": {},
   "outputs": [],
   "source": [
    "option=int(input())"
   ]
  },
  {
   "cell_type": "code",
   "execution_count": null,
   "id": "539eac3c",
   "metadata": {},
   "outputs": [],
   "source": [
    "while option!=9:\n",
    "    if option==1:\n",
    "        x=float(input(enter x))\n",
    "        y=float(input(enter y))\n",
    "        res=np.add(x,y)\n",
    "        print(\"result:\",res)\n",
    "    elif option==2:\n",
    "        x=float(input(enter x))\n",
    "        y=float(input(enter y))\n",
    "        res=np.subtract(x,y)\n",
    "        print(\"result:\",res)\n",
    "    elif option==3:\n",
    "        x=float(input(enter x))\n",
    "        y=float(input(enter y))\n",
    "        res=np.multiply(x,y)\n",
    "        print(\"result:\",res)\n",
    "    elif option==4:\n",
    "        x=float(input(enter x))\n",
    "        y=float(input(enter y))\n",
    "        res=np.divide(x,y)\n",
    "        print(\"result:\",res)\n",
    "    elif option==5:\n",
    "        x=float(input(enter x))\n",
    "        res=np.sqrt(x)\n",
    "        print(\"result:\",res)\n",
    "    elif option==6:\n",
    "        x=float(input(enter base))\n",
    "        y=float(input(enter exponent))\n",
    "        res=np.power(x,y)\n",
    "        print(\"result:\",res)\n",
    "    elif option==7:\n",
    "        x=float(input(enter x))\n",
    "        res=np.log10(x)\n",
    "        print(\"result:\",res)\n",
    "    elif option==8:\n",
    "        x=float(input(enter angle in degrees:))\n",
    "        sin_res=np.sin(np.radians(x))\n",
    "        cos_res=np.cos(np.radians(x))\n",
    "        tan_res=np.tan(np.radians(x))\n",
    "        print(\"sine:\",sin_res)\n",
    "        print(\"cosine:\",cos_res)\n",
    "        print(\"tangent:\",tan_res)\n",
    "    else:\n",
    "        print(\"invaild option\")\n",
    "        print(\"Enter any operation:\")\n",
    "        print(\"1.add\")\n",
    "        print(\"2.subtract\")\n",
    "        print(\"3.multiply\")\n",
    "        print(\"4.divide\")\n",
    "        print(\"5.square root\")\n",
    "        print(\"6.exponentiation\")\n",
    "        print(\"7.logarithm\")\n",
    "        print(\"8.trigonometric functions\")\n",
    "        print(\"9.exit\")\n",
    "        option=int(input())"
   ]
  }
 ],
 "metadata": {
  "kernelspec": {
   "display_name": "Python 3",
   "language": "python",
   "name": "python3"
  },
  "language_info": {
   "codemirror_mode": {
    "name": "ipython",
    "version": 3
   },
   "file_extension": ".py",
   "mimetype": "text/x-python",
   "name": "python",
   "nbconvert_exporter": "python",
   "pygments_lexer": "ipython3",
   "version": "3.6.9"
  }
 },
 "nbformat": 4,
 "nbformat_minor": 5
}
