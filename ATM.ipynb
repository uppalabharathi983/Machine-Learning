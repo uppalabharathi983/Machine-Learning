{
 "cells": [
  {
   "cell_type": "code",
   "execution_count": 9,
   "id": "b296e2f9",
   "metadata": {},
   "outputs": [],
   "source": [
    "balance=10000\n",
    "def display_balance():\n",
    "    print(f\"your current balance is {balance}\")"
   ]
  },
  {
   "cell_type": "code",
   "execution_count": 10,
   "id": "b7b3cc59",
   "metadata": {},
   "outputs": [],
   "source": [
    "def diposit_money():\n",
    "    global balance\n",
    "    amount=int(input(\"Enter the amount to deposit:\"))\n",
    "    balance+=amount\n",
    "    print(f\"Depositing of {amount} succesfully\")\n",
    "    display_balance()"
   ]
  },
  {
   "cell_type": "code",
   "execution_count": 11,
   "id": "72d02278",
   "metadata": {},
   "outputs": [],
   "source": [
    "def withdraw_money():\n",
    "    global balance\n",
    "    amount=int(input(\"Enter the amount to withdraw: \"))\n",
    "    if amount>balance:\n",
    "        print(\"Insufficient Balance\")\n",
    "    else:\n",
    "        print(\"Available notes:100,200,500,2000\")\n",
    "        notes=[int(x) for x in input(\"Enter the notes you require(separated by space):\").split()]\n",
    "        total_amount=sum(notes)\n",
    "        if total_amount!=amount:\n",
    "            print(\"Invalid note\")\n",
    "        else:\n",
    "            balance-=amount\n",
    "            print(\"Please collect the cash\")\n",
    "            display_balance()"
   ]
  },
  {
   "cell_type": "code",
   "execution_count": 12,
   "id": "20a64c2d",
   "metadata": {},
   "outputs": [
    {
     "name": "stdout",
     "output_type": "stream",
     "text": [
      "Welcome \n",
      "1.Display balance\n",
      "2.deposit money\n",
      "3.withdraw money\n",
      "4.Quit\n",
      "Enter your Choice:3\n",
      "Enter the amount to withdraw: 2000\n",
      "Available notes:100,200,500,2000\n",
      "Enter the notes you require(separated by space):500 \n",
      "Invalid note\n",
      "Welcome \n",
      "1.Display balance\n",
      "2.deposit money\n",
      "3.withdraw money\n",
      "4.Quit\n",
      "Enter your Choice:3\n",
      "Enter the amount to withdraw: 500\n",
      "Available notes:100,200,500,2000\n",
      "Enter the notes you require(separated by space):500\n",
      "Please collect the cash\n",
      "your current balance is 9500\n",
      "Welcome \n",
      "1.Display balance\n",
      "2.deposit money\n",
      "3.withdraw money\n",
      "4.Quit\n",
      "Enter your Choice:3\n",
      "Enter the amount to withdraw: 2000\n",
      "Available notes:100,200,500,2000\n",
      "Enter the notes you require(separated by space):500 500 500 500\n",
      "Please collect the cash\n",
      "your current balance is 7500\n",
      "Welcome \n",
      "1.Display balance\n",
      "2.deposit money\n",
      "3.withdraw money\n",
      "4.Quit\n",
      "Enter your Choice:4\n",
      "Thank you\n"
     ]
    }
   ],
   "source": [
    "while True:\n",
    "    print(\"Welcome \")\n",
    "    print(\"1.Display balance\")\n",
    "    print(\"2.deposit money\")\n",
    "    print(\"3.withdraw money\")\n",
    "    print(\"4.Quit\")\n",
    "    choice=int(input(\"Enter your Choice:\"))\n",
    "    if choice==1:\n",
    "        display_balance()\n",
    "    elif choice==2:\n",
    "        deposit_money()\n",
    "    elif choice==3:\n",
    "        withdraw_money()\n",
    "    elif choice==4:\n",
    "        print(\"Thank you\")\n",
    "        break\n",
    "    else:\n",
    "        print(\"Invalid choice\")"
   ]
  },
  {
   "cell_type": "code",
   "execution_count": null,
   "id": "b38a6e1b",
   "metadata": {},
   "outputs": [],
   "source": []
  }
 ],
 "metadata": {
  "kernelspec": {
   "display_name": "Python 3",
   "language": "python",
   "name": "python3"
  },
  "language_info": {
   "codemirror_mode": {
    "name": "ipython",
    "version": 3
   },
   "file_extension": ".py",
   "mimetype": "text/x-python",
   "name": "python",
   "nbconvert_exporter": "python",
   "pygments_lexer": "ipython3",
   "version": "3.6.9"
  }
 },
 "nbformat": 4,
 "nbformat_minor": 5
}
